{
 "cells": [
  {
   "cell_type": "code",
   "execution_count": 1,
   "metadata": {},
   "outputs": [],
   "source": [
    "import pandas as pd\n",
    "import numpy as np\n",
    "import matplotlib.pyplot as plt\n",
    "import seaborn as sns\n",
    "\n",
    "import jsonlines\n",
    "import json\n",
    "import re\n",
    "\n",
    "from random import randrange"
   ]
  },
  {
   "cell_type": "code",
   "execution_count": 2,
   "metadata": {},
   "outputs": [],
   "source": [
    "from sklearn.model_selection import StratifiedKFold\n",
    "from sklearn.feature_extraction.text import TfidfVectorizer\n",
    "from sklearn.linear_model import LogisticRegression\n",
    "from sklearn import metrics\n",
    "from sklearn.metrics import confusion_matrix\n",
    "\n",
    "import string\n",
    "import nltk\n",
    "from nltk.corpus import stopwords\n",
    "from nltk.tokenize import word_tokenize\n",
    "from nltk.stem.snowball import SnowballStemmer\n",
    "from itertools import chain\n",
    "from scipy import sparse\n",
    "%matplotlib inline\n",
    "seed = 42"
   ]
  },
  {
   "cell_type": "code",
   "execution_count": 6,
   "metadata": {},
   "outputs": [],
   "source": [
    "path = '../snli_1.0/'\n",
    "train_file = path + 'snli_1.0_train.jsonl'\n",
    "test_file = path + 'snli_1.0_test.jsonl'"
   ]
  },
  {
   "cell_type": "code",
   "execution_count": 7,
   "metadata": {},
   "outputs": [],
   "source": [
    "# True if we are validating, False if we are testing our final model\n",
    "validating = True"
   ]
  },
  {
   "cell_type": "code",
   "execution_count": 8,
   "metadata": {},
   "outputs": [],
   "source": [
    "# Load train data\n",
    "train = []\n",
    "with jsonlines.open(train_file) as f:\n",
    "    for line in f.iter():\n",
    "        train.append(line)\n",
    "train = pd.DataFrame(train)\n",
    "test = []\n",
    "with jsonlines.open(test_file) as f:\n",
    "    for line in f.iter():\n",
    "        test.append(line)\n",
    "test = pd.DataFrame(test)"
   ]
  },
  {
   "cell_type": "code",
   "execution_count": 9,
   "metadata": {},
   "outputs": [
    {
     "name": "stdout",
     "output_type": "stream",
     "text": [
      "Premise: A boy with a red hat noticeably shocked by the spinning of a playground toy.\n",
      "Hypothesis: Boy with a red hat\n",
      "Gold Label: neutral\n"
     ]
    }
   ],
   "source": [
    "rdm = randrange(len(train))\n",
    "print(\"Premise: \" + train['sentence1'][rdm])\n",
    "print(\"Hypothesis: \" + train['sentence2'][rdm])\n",
    "print(\"Gold Label: \" + train['gold_label'][rdm])"
   ]
  },
  {
   "cell_type": "code",
   "execution_count": 10,
   "metadata": {},
   "outputs": [
    {
     "name": "stdout",
     "output_type": "stream",
     "text": [
      "Number of rows in the train data set: 550152\n",
      "Number of rows in the test data set: 10000\n"
     ]
    }
   ],
   "source": [
    "print('Number of rows in the train data set:', len(train))\n",
    "print('Number of rows in the test data set:', len(test))"
   ]
  },
  {
   "cell_type": "code",
   "execution_count": 11,
   "metadata": {},
   "outputs": [
    {
     "data": {
      "text/plain": [
       "<matplotlib.axes._subplots.AxesSubplot at 0x7f5dec1945c0>"
      ]
     },
     "execution_count": 11,
     "metadata": {},
     "output_type": "execute_result"
    },
    {
     "data": {
      "image/png": "[encoded data removed]",
      "text/plain": [
       "<Figure size 432x288 with 1 Axes>"
      ]
     },
     "metadata": {
      "needs_background": "light"
     },
     "output_type": "display_data"
    }
   ],
   "source": [
    "sns.countplot(test['gold_label'],palette='magma')"
   ]
  },
  {
   "cell_type": "code",
   "execution_count": 12,
   "metadata": {},
   "outputs": [],
   "source": [
    "# Remove samples without gold_label\n",
    "train = train[train.gold_label != \"-\"]\n",
    "test = test[test.gold_label != \"-\"]"
   ]
  },
  {
   "cell_type": "code",
   "execution_count": 13,
   "metadata": {},
   "outputs": [
    {
     "name": "stdout",
     "output_type": "stream",
     "text": [
      "Number of rows in the train data set: 549367\n",
      "Number of rows in the test data set: 9824\n"
     ]
    }
   ],
   "source": [
    "print('Number of rows in the train data set:', len(train))\n",
    "print('Number of rows in the test data set:', len(test))"
   ]
  },
  {
   "cell_type": "code",
   "execution_count": 14,
   "metadata": {},
   "outputs": [
    {
     "name": "stdout",
     "output_type": "stream",
     "text": [
      "Number of rows in the train data set: 538379\n",
      "Number of rows in the validate data set: 10988\n"
     ]
    }
   ],
   "source": [
    "# splitting train and validate sets\n",
    "if(validating):\n",
    "    from sklearn.model_selection import train_test_split\n",
    "    train, validate = train_test_split(train, test_size=0.02, shuffle=True)\n",
    "    print('Number of rows in the train data set:', len(train))\n",
    "    print('Number of rows in the validate data set:', len(validate))"
   ]
  },
  {
   "cell_type": "code",
   "execution_count": 15,
   "metadata": {
    "scrolled": true
   },
   "outputs": [
    {
     "data": {
      "text/plain": [
       "<matplotlib.axes._subplots.AxesSubplot at 0x7f5debc61358>"
      ]
     },
     "execution_count": 15,
     "metadata": {},
     "output_type": "execute_result"
    },
    {
     "data": {
      "image/png": "[encoded data removed]",
      "text/plain": [
       "<Figure size 432x288 with 1 Axes>"
      ]
     },
     "metadata": {
      "needs_background": "light"
     },
     "output_type": "display_data"
    }
   ],
   "source": [
    "sns.countplot(train['gold_label'],palette='magma')"
   ]
  },
  {
   "cell_type": "code",
   "execution_count": 16,
   "metadata": {
    "scrolled": true
   },
   "outputs": [
    {
     "data": {
      "image/png": "[encoded data removed]",
      "text/plain": [
       "<Figure size 432x288 with 1 Axes>"
      ]
     },
     "metadata": {
      "needs_background": "light"
     },
     "output_type": "display_data"
    }
   ],
   "source": [
    "if(validating):\n",
    "    sns.countplot(validate['gold_label'],palette='magma')"
   ]
  },
  {
   "cell_type": "code",
   "execution_count": 17,
   "metadata": {
    "scrolled": true
   },
   "outputs": [
    {
     "data": {
      "text/plain": [
       "<matplotlib.axes._subplots.AxesSubplot at 0x7f5deb33ef60>"
      ]
     },
     "execution_count": 17,
     "metadata": {},
     "output_type": "execute_result"
    },
    {
     "data": {
      "image/png": "[encoded data removed]",
      "text/plain": [
       "<Figure size 432x288 with 1 Axes>"
      ]
     },
     "metadata": {
      "needs_background": "light"
     },
     "output_type": "display_data"
    }
   ],
   "source": [
    "sns.countplot(test['gold_label'], palette='magma')"
   ]
  },
  {
   "cell_type": "code",
   "execution_count": 18,
   "metadata": {
    "scrolled": true
   },
   "outputs": [
    {
     "name": "stdout",
     "output_type": "stream",
     "text": [
      "211\n"
     ]
    },
    {
     "name": "stderr",
     "output_type": "stream",
     "text": [
      "[nltk_data] Downloading package stopwords to /home/easy/nltk_data...\n",
      "[nltk_data]   Package stopwords is already up-to-date!\n",
      "[nltk_data] Downloading package punkt to /home/easy/nltk_data...\n",
      "[nltk_data]   Package punkt is already up-to-date!\n"
     ]
    }
   ],
   "source": [
    "# For preprocessing\n",
    "nltk.download('stopwords')\n",
    "nltk.download('punkt')\n",
    "STOP_WORDS = nltk.corpus.stopwords.words('english') + list(string.punctuation)\n",
    "snowBallStemmer = SnowballStemmer(\"english\")\n",
    "print(len(STOP_WORDS))\n",
    "#print(STOP_WORDS)"
   ]
  },
  {
   "cell_type": "code",
   "execution_count": 19,
   "metadata": {},
   "outputs": [],
   "source": [
    "# Text Preprocessing\n",
    "def preprocess(sentence):\n",
    "    # Tokenize\n",
    "    sentence = sentence.replace('\\n', ' ').replace('\\t', ' ').lower()\n",
    "    sentence = re.sub('[^a-z ]', ' ', sentence)\n",
    "    tokens = sentence.split(' ')\n",
    "    tokens = [token for token in tokens if len(token) > 0]\n",
    "    # Remove stop words\n",
    "    #words = [i for i in tokens if i not in STOP_WORDS]\n",
    "    words = [i for i in tokens if len(i) > 0]\n",
    "    # Stemming\n",
    "    stemWords = [snowBallStemmer.stem(word) for word in words]\n",
    "    return stemWords"
   ]
  },
  {
   "cell_type": "code",
   "execution_count": 20,
   "metadata": {},
   "outputs": [],
   "source": [
    "tfidf = TfidfVectorizer(tokenizer=preprocess)\n",
    "tfidf_train = tfidf.fit_transform(list(chain(*zip(train['sentence1'], train['sentence2']))))"
   ]
  },
  {
   "cell_type": "code",
   "execution_count": 21,
   "metadata": {},
   "outputs": [
    {
     "data": {
      "text/plain": [
       "21038"
      ]
     },
     "execution_count": 21,
     "metadata": {},
     "output_type": "execute_result"
    }
   ],
   "source": [
    "feature_names = tfidf.get_feature_names()\n",
    "len(feature_names) #24672 #21456  #20734"
   ]
  },
  {
   "cell_type": "code",
   "execution_count": 22,
   "metadata": {
    "scrolled": true
   },
   "outputs": [],
   "source": [
    "if(validating):\n",
    "    tfidf_validate = tfidf.transform(list(chain(*zip(validate['sentence1'], validate['sentence2']))))"
   ]
  },
  {
   "cell_type": "code",
   "execution_count": 23,
   "metadata": {},
   "outputs": [
    {
     "name": "stdout",
     "output_type": "stream",
     "text": [
      "A man in a blue shirt riding a motorcycle in Japan.\n",
      "blue  -  0.2727333162894456\n",
      "japan  -  0.650701179326998\n",
      "motorcycl  -  0.41720709305634057\n",
      "ride  -  0.3016890142219387\n",
      "shirt  -  0.2525467254410564\n",
      "man  -  0.16092168720374786\n",
      "in  -  0.28231483206732494\n",
      "a  -  0.2602867481467022\n"
     ]
    }
   ],
   "source": [
    "rdm = randrange(len(train))\n",
    "\n",
    "print(list(train['sentence1'])[rdm])\n",
    "rows = tfidf_train.nonzero()[0]\n",
    "cols = tfidf_train.nonzero()[1]\n",
    "for i in range(len(rows)):\n",
    "    if(rows[i] == 2*rdm):\n",
    "        print(feature_names[cols[i]], ' - ', tfidf_train[rows[i], cols[i]])"
   ]
  },
  {
   "cell_type": "code",
   "execution_count": 24,
   "metadata": {},
   "outputs": [],
   "source": [
    "X_train = tfidf_train.reshape((len(train), 2*len(feature_names)))\n",
    "y_train = list(train['gold_label'])"
   ]
  },
  {
   "cell_type": "code",
   "execution_count": 25,
   "metadata": {},
   "outputs": [
    {
     "data": {
      "text/plain": [
       "(538379, 42076)"
      ]
     },
     "execution_count": 25,
     "metadata": {},
     "output_type": "execute_result"
    }
   ],
   "source": [
    "X_train.shape"
   ]
  },
  {
   "cell_type": "code",
   "execution_count": 26,
   "metadata": {
    "scrolled": true
   },
   "outputs": [],
   "source": [
    "if(validating):\n",
    "    X_validate = tfidf_validate.reshape((len(validate), 2*len(feature_names)))\n",
    "    y_validate = list(validate['gold_label'])"
   ]
  },
  {
   "cell_type": "code",
   "execution_count": 27,
   "metadata": {},
   "outputs": [],
   "source": [
    "#X_validate.shape"
   ]
  },
  {
   "cell_type": "code",
   "execution_count": 28,
   "metadata": {
    "scrolled": true
   },
   "outputs": [
    {
     "name": "stdout",
     "output_type": "stream",
     "text": [
      "A participant in a sporting event has landed on his head while holding the ball on a field of grass.\n",
      "a participant has fallen on his head.\n",
      "entailment\n",
      "entailment\n"
     ]
    }
   ],
   "source": [
    "rdm = randrange(len(train))\n",
    "print(list(train['sentence1'])[rdm])\n",
    "print(list(train['sentence2'])[rdm])\n",
    "print(list(train['gold_label'])[rdm])\n",
    "print(y_train[rdm])"
   ]
  },
  {
   "cell_type": "markdown",
   "metadata": {},
   "source": [
    "# Logistic regression"
   ]
  },
  {
   "cell_type": "code",
   "execution_count": 29,
   "metadata": {},
   "outputs": [],
   "source": [
    "def plot_cm(cm, labels):\n",
    "    plt.figure(figsize=(9,9))\n",
    "    sns.heatmap(cm, annot=True, vmin=0, vmax=max(np.sum(cm, axis=1)), \n",
    "                fmt=\".3f\", linewidths=.5, square = True, cmap='plasma',\n",
    "                xticklabels=labels, yticklabels=labels);\n",
    "    plt.ylabel('Actual label');\n",
    "    plt.xlabel('Predicted label');\n",
    "    all_sample_title = 'Accuracy Score: {0}'.format(np.trace(cm)/np.sum(cm))\n",
    "    plt.title(all_sample_title, size = 15);"
   ]
  },
  {
   "cell_type": "code",
   "execution_count": 30,
   "metadata": {
    "scrolled": true
   },
   "outputs": [
    {
     "name": "stderr",
     "output_type": "stream",
     "text": [
      "/home/easy/anaconda3/lib/python3.7/site-packages/sklearn/linear_model/logistic.py:432: FutureWarning: Default solver will be changed to 'lbfgs' in 0.22. Specify a solver to silence this warning.\n",
      "  FutureWarning)\n",
      "/home/easy/anaconda3/lib/python3.7/site-packages/sklearn/linear_model/logistic.py:469: FutureWarning: Default multi_class will be changed to 'auto' in 0.22. Specify the multi_class option to silence this warning.\n",
      "  \"this warning.\", FutureWarning)\n",
      "/home/easy/anaconda3/lib/python3.7/site-packages/sklearn/linear_model/logistic.py:1544: UserWarning: 'n_jobs' > 1 does not have any effect when 'solver' is set to 'liblinear'. Got 'n_jobs' = 12.\n",
      "  \" = {}.\".format(effective_n_jobs(self.n_jobs)))\n"
     ]
    },
    {
     "data": {
      "text/plain": [
       "LogisticRegression(C=10, class_weight=None, dual=False, fit_intercept=True,\n",
       "                   intercept_scaling=1, l1_ratio=None, max_iter=500,\n",
       "                   multi_class='warn', n_jobs=-1, penalty='l2',\n",
       "                   random_state=None, solver='warn', tol=0.0001, verbose=0,\n",
       "                   warm_start=False)"
      ]
     },
     "execution_count": 30,
     "metadata": {},
     "output_type": "execute_result"
    }
   ],
   "source": [
    "log_reg = LogisticRegression(C=10, n_jobs=-1, max_iter=500)\n",
    "log_reg.fit(X_train, y_train)"
   ]
  },
  {
   "cell_type": "code",
   "execution_count": 31,
   "metadata": {},
   "outputs": [
    {
     "data": {
      "text/plain": [
       "array(['contradiction', 'entailment', 'neutral'], dtype='<U13')"
      ]
     },
     "execution_count": 31,
     "metadata": {},
     "output_type": "execute_result"
    }
   ],
   "source": [
    "log_reg.classes_"
   ]
  },
  {
   "cell_type": "code",
   "execution_count": 32,
   "metadata": {},
   "outputs": [
    {
     "data": {
      "text/plain": [
       "(3, 42076)"
      ]
     },
     "execution_count": 32,
     "metadata": {},
     "output_type": "execute_result"
    }
   ],
   "source": [
    "log_reg.coef_.shape"
   ]
  },
  {
   "cell_type": "code",
   "execution_count": 33,
   "metadata": {},
   "outputs": [
    {
     "data": {
      "text/plain": [
       "array([-1.64830809,  1.05761144, -1.88598236])"
      ]
     },
     "execution_count": 33,
     "metadata": {},
     "output_type": "execute_result"
    }
   ],
   "source": [
    "log_reg.intercept_"
   ]
  },
  {
   "cell_type": "code",
   "execution_count": 34,
   "metadata": {},
   "outputs": [
    {
     "data": {
      "text/plain": [
       "array([25], dtype=int32)"
      ]
     },
     "execution_count": 34,
     "metadata": {},
     "output_type": "execute_result"
    }
   ],
   "source": [
    "log_reg.n_iter_"
   ]
  },
  {
   "cell_type": "code",
   "execution_count": 35,
   "metadata": {
    "scrolled": true
   },
   "outputs": [
    {
     "name": "stdout",
     "output_type": "stream",
     "text": [
      "0.6835426344638257\n"
     ]
    }
   ],
   "source": [
    "# Train score\n",
    "score = log_reg.score(X_train, y_train)\n",
    "print(score)"
   ]
  },
  {
   "cell_type": "code",
   "execution_count": 36,
   "metadata": {},
   "outputs": [
    {
     "name": "stdout",
     "output_type": "stream",
     "text": [
      "0.6403349108117947\n"
     ]
    }
   ],
   "source": [
    "# Validate score\n",
    "if(validating):\n",
    "    score = log_reg.score(X_validate, y_validate)\n",
    "    print(score)\n",
    "else: #test score\n",
    "    score = log_reg.score(X_test, y_test)\n",
    "    print(score)"
   ]
  },
  {
   "cell_type": "code",
   "execution_count": 37,
   "metadata": {},
   "outputs": [
    {
     "name": "stdout",
     "output_type": "stream",
     "text": [
      "[[118526  31940  28984]\n",
      " [ 25086 131668  23033]\n",
      " [ 29193  32138 117811]]\n"
     ]
    },
    {
     "data": {
      "image/png": "[encoded data removed]",
      "text/plain": [
       "<Figure size 648x648 with 2 Axes>"
      ]
     },
     "metadata": {
      "needs_background": "light"
     },
     "output_type": "display_data"
    }
   ],
   "source": [
    "# Train cm\n",
    "predictions = log_reg.predict(X_train)\n",
    "cm = metrics.confusion_matrix(y_train, predictions)\n",
    "print(cm)\n",
    "plot_cm(cm, log_reg.classes_)"
   ]
  },
  {
   "cell_type": "code",
   "execution_count": 38,
   "metadata": {},
   "outputs": [
    {
     "name": "stdout",
     "output_type": "stream",
     "text": [
      "[[2304  697  736]\n",
      " [ 589 2502  538]\n",
      " [ 666  726 2230]]\n"
     ]
    },
    {
     "data": {
      "image/png": "[encoded data removed]",
      "text/plain": [
       "<Figure size 648x648 with 2 Axes>"
      ]
     },
     "metadata": {
      "needs_background": "light"
     },
     "output_type": "display_data"
    }
   ],
   "source": [
    "# Validate cm\n",
    "if(validating):\n",
    "    predictions = log_reg.predict(X_validate)\n",
    "    cm = metrics.confusion_matrix(y_validate, predictions)\n",
    "    print(cm)\n",
    "    plot_cm(cm, log_reg.classes_)\n",
    "else: # testing\n",
    "    predictions = log_reg.predict(X_test)\n",
    "    cm = metrics.confusion_matrix(y_test, predictions)\n",
    "    print(cm)\n",
    "    plot_cm(cm, log_reg.classes_)"
   ]
  },
  {
   "cell_type": "code",
   "execution_count": 40,
   "metadata": {},
   "outputs": [],
   "source": [
    "if(not validating):\n",
    "    with open('models/logistic_regression.pkl', 'wb') as f:\n",
    "        pickle.dump(log_reg, f) \n",
    "\n",
    "    with open('models/tfidf.pkl', 'wb') as f:\n",
    "        pickle.dump(tfidf, f)"
   ]
  },
  {
   "cell_type": "code",
   "execution_count": null,
   "metadata": {},
   "outputs": [],
   "source": []
  }
 ],
 "metadata": {
  "kernelspec": {
   "display_name": "Python 3",
   "language": "python",
   "name": "python3"
  },
  "language_info": {
   "codemirror_mode": {
    "name": "ipython",
    "version": 3
   },
   "file_extension": ".py",
   "mimetype": "text/x-python",
   "name": "python",
   "nbconvert_exporter": "python",
   "pygments_lexer": "ipython3",
   "version": "3.7.3"
  }
 },
 "nbformat": 4,
 "nbformat_minor": 2
}
