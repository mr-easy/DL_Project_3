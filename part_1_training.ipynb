{
 "cells": [
  {
   "cell_type": "code",
   "execution_count": null,
   "metadata": {},
   "outputs": [],
   "source": [
    "import pandas as pd\n",
    "import numpy as np\n",
    "import matplotlib.pyplot as plt\n",
    "import seaborn as sns\n",
    "\n",
    "import jsonlines\n",
    "import json\n",
    "import re\n",
    "\n",
    "from random import randrange"
   ]
  },
  {
   "cell_type": "code",
   "execution_count": null,
   "metadata": {},
   "outputs": [],
   "source": [
    "from sklearn.model_selection import StratifiedKFold\n",
    "from sklearn.feature_extraction.text import TfidfVectorizer\n",
    "from sklearn.linear_model import LogisticRegression\n",
    "from sklearn import metrics\n",
    "from sklearn.metrics import confusion_matrix\n",
    "\n",
    "import string\n",
    "import nltk\n",
    "from nltk.corpus import stopwords\n",
    "from nltk.tokenize import word_tokenize\n",
    "from nltk.stem.snowball import SnowballStemmer\n",
    "from itertools import chain\n",
    "from scipy import sparse\n",
    "%matplotlib inline\n",
    "seed = 42"
   ]
  },
  {
   "cell_type": "code",
   "execution_count": null,
   "metadata": {},
   "outputs": [],
   "source": [
    "path = './snli_1.0/'\n",
    "train_file = path + 'snli_1.0_train.jsonl'\n",
    "test_file = path + 'snli_1.0_test.jsonl'"
   ]
  },
  {
   "cell_type": "code",
   "execution_count": null,
   "metadata": {},
   "outputs": [],
   "source": [
    "# Load train data\n",
    "train = []\n",
    "with jsonlines.open(train_file) as f:\n",
    "    for line in f.iter():\n",
    "        train.append(line)\n",
    "train = pd.DataFrame(train)\n",
    "test = []\n",
    "with jsonlines.open(test_file) as f:\n",
    "    for line in f.iter():\n",
    "        test.append(line)\n",
    "test = pd.DataFrame(test)"
   ]
  },
  {
   "cell_type": "code",
   "execution_count": null,
   "metadata": {},
   "outputs": [],
   "source": [
    "rdm = randrange(len(train))\n",
    "print(\"Premise: \" + train['sentence1'][rdm])\n",
    "print(\"Hypothesis: \" + train['sentence2'][rdm])\n",
    "print(\"Gold Label: \" + train['gold_label'][rdm])"
   ]
  },
  {
   "cell_type": "code",
   "execution_count": null,
   "metadata": {},
   "outputs": [],
   "source": [
    "print('Number of rows in the train data set:', len(train))\n",
    "print('Number of rows in the test data set:', len(test))"
   ]
  },
  {
   "cell_type": "code",
   "execution_count": null,
   "metadata": {},
   "outputs": [],
   "source": [
    "sns.countplot(test['gold_label'],palette='magma')"
   ]
  },
  {
   "cell_type": "code",
   "execution_count": null,
   "metadata": {},
   "outputs": [],
   "source": [
    "# Remove samples without gold_label\n",
    "train = train[train.gold_label != \"-\"]\n",
    "test = test[test.gold_label != \"-\"]"
   ]
  },
  {
   "cell_type": "code",
   "execution_count": null,
   "metadata": {},
   "outputs": [],
   "source": [
    "print('Number of rows in the train data set:', len(train))\n",
    "print('Number of rows in the test data set:', len(test))"
   ]
  },
  {
   "cell_type": "code",
   "execution_count": null,
   "metadata": {},
   "outputs": [],
   "source": [
    "# splitting train and validate sets\n",
    "from sklearn.model_selection import train_test_split\n",
    "train, validate = train_test_split(train, test_size=0.02, shuffle=True)\n",
    "print('Number of rows in the train data set:', len(train))\n",
    "print('Number of rows in the validate data set:', len(validate))"
   ]
  },
  {
   "cell_type": "code",
   "execution_count": null,
   "metadata": {
    "scrolled": true
   },
   "outputs": [],
   "source": [
    "sns.countplot(train['gold_label'],palette='magma')"
   ]
  },
  {
   "cell_type": "code",
   "execution_count": null,
   "metadata": {
    "scrolled": true
   },
   "outputs": [],
   "source": [
    "sns.countplot(validate['gold_label'],palette='magma')"
   ]
  },
  {
   "cell_type": "code",
   "execution_count": null,
   "metadata": {
    "scrolled": true
   },
   "outputs": [],
   "source": [
    "sns.countplot(test['gold_label'], palette='magma')"
   ]
  },
  {
   "cell_type": "code",
   "execution_count": null,
   "metadata": {
    "scrolled": true
   },
   "outputs": [],
   "source": [
    "# For preprocessing\n",
    "nltk.download('stopwords')\n",
    "nltk.download('punkt')\n",
    "STOP_WORDS = nltk.corpus.stopwords.words('english') + list(string.punctuation)\n",
    "snowBallStemmer = SnowballStemmer(\"english\")\n",
    "print(len(STOP_WORDS))\n",
    "#print(STOP_WORDS)"
   ]
  },
  {
   "cell_type": "code",
   "execution_count": null,
   "metadata": {},
   "outputs": [],
   "source": [
    "# Text Preprocessing\n",
    "def preprocess(sentence):\n",
    "    # Tokenize\n",
    "    sentence = sentence.replace('\\n', ' ').replace('\\t', ' ').lower()\n",
    "    sentence = re.sub('[^a-z ]', ' ', sentence)\n",
    "    tokens = sentence.split(' ')\n",
    "    tokens = [token for token in tokens if len(token) > 0]\n",
    "    # Remove stop words\n",
    "    #words = [i for i in tokens if i not in STOP_WORDS]\n",
    "    words = [i for i in tokens if len(i) > 0]\n",
    "    # Stemming\n",
    "    stemWords = [snowBallStemmer.stem(word) for word in words]\n",
    "    return stemWords"
   ]
  },
  {
   "cell_type": "code",
   "execution_count": null,
   "metadata": {},
   "outputs": [],
   "source": [
    "tfidf = TfidfVectorizer(tokenizer=preprocess)\n",
    "tfidf_train = tfidf.fit_transform(list(chain(*zip(train['sentence1'], train['sentence2']))))"
   ]
  },
  {
   "cell_type": "code",
   "execution_count": null,
   "metadata": {},
   "outputs": [],
   "source": [
    "feature_names = tfidf.get_feature_names()\n",
    "len(feature_names) #24672 #21456  #20734"
   ]
  },
  {
   "cell_type": "code",
   "execution_count": null,
   "metadata": {
    "scrolled": true
   },
   "outputs": [],
   "source": [
    "tfidf_validate = tfidf.transform(list(chain(*zip(validate['sentence1'], validate['sentence2']))))"
   ]
  },
  {
   "cell_type": "code",
   "execution_count": null,
   "metadata": {},
   "outputs": [],
   "source": [
    "rdm = randrange(len(validate))\n",
    "\n",
    "print(list(validate['sentence1'])[rdm])\n",
    "rows = tfidf_validate.nonzero()[0]\n",
    "cols = tfidf_validate.nonzero()[1]\n",
    "for i in range(len(rows)):\n",
    "    if(rows[i] == 2*rdm):\n",
    "        print(feature_names[cols[i]], ' - ', tfidf_validate[rows[i], cols[i]])"
   ]
  },
  {
   "cell_type": "code",
   "execution_count": null,
   "metadata": {},
   "outputs": [],
   "source": [
    "X_train = tfidf_train.reshape((len(train), 2*len(feature_names)))\n",
    "y_train = list(train['gold_label'])"
   ]
  },
  {
   "cell_type": "code",
   "execution_count": null,
   "metadata": {},
   "outputs": [],
   "source": [
    "X_train.shape"
   ]
  },
  {
   "cell_type": "code",
   "execution_count": null,
   "metadata": {
    "scrolled": true
   },
   "outputs": [],
   "source": [
    "X_validate = tfidf_validate.reshape((len(validate), 2*len(feature_names)))\n",
    "y_validate = list(validate['gold_label'])"
   ]
  },
  {
   "cell_type": "code",
   "execution_count": null,
   "metadata": {},
   "outputs": [],
   "source": [
    "X_validate.shape"
   ]
  },
  {
   "cell_type": "code",
   "execution_count": null,
   "metadata": {
    "scrolled": true
   },
   "outputs": [],
   "source": [
    "rdm = randrange(len(train))\n",
    "print(list(train['sentence1'])[rdm])\n",
    "print(list(train['sentence2'])[rdm])\n",
    "print(list(train['gold_label'])[rdm])\n",
    "print(y_train[rdm])"
   ]
  },
  {
   "cell_type": "markdown",
   "metadata": {},
   "source": [
    "# Logistic regression"
   ]
  },
  {
   "cell_type": "code",
   "execution_count": null,
   "metadata": {},
   "outputs": [],
   "source": [
    "def plot_cm(cm, labels):\n",
    "    plt.figure(figsize=(9,9))\n",
    "    sns.heatmap(cm, annot=True, vmin=0, vmax=max(np.sum(cm, axis=1)), \n",
    "                fmt=\".3f\", linewidths=.5, square = True, cmap='plasma',\n",
    "                xticklabels=labels, yticklabels=labels);\n",
    "    plt.ylabel('Actual label');\n",
    "    plt.xlabel('Predicted label');\n",
    "    all_sample_title = 'Accuracy Score: {0}'.format(np.trace(cm)/np.sum(cm))\n",
    "    plt.title(all_sample_title, size = 15);"
   ]
  },
  {
   "cell_type": "code",
   "execution_count": null,
   "metadata": {
    "scrolled": true
   },
   "outputs": [],
   "source": [
    "log_reg = LogisticRegression(C=10, n_jobs=-1, max_iter=500)\n",
    "log_reg.fit(X_train, y_train)"
   ]
  },
  {
   "cell_type": "code",
   "execution_count": null,
   "metadata": {},
   "outputs": [],
   "source": [
    "log_reg.classes_"
   ]
  },
  {
   "cell_type": "code",
   "execution_count": null,
   "metadata": {},
   "outputs": [],
   "source": [
    "log_reg.coef_.shape"
   ]
  },
  {
   "cell_type": "code",
   "execution_count": null,
   "metadata": {},
   "outputs": [],
   "source": [
    "log_reg.intercept_"
   ]
  },
  {
   "cell_type": "code",
   "execution_count": null,
   "metadata": {},
   "outputs": [],
   "source": [
    "log_reg.n_iter_"
   ]
  },
  {
   "cell_type": "code",
   "execution_count": null,
   "metadata": {
    "scrolled": true
   },
   "outputs": [],
   "source": [
    "# Train score\n",
    "score = log_reg.score(X_train, y_train)\n",
    "print(score)"
   ]
  },
  {
   "cell_type": "code",
   "execution_count": null,
   "metadata": {},
   "outputs": [],
   "source": [
    "# Validate score\n",
    "score = log_reg.score(X_validate, y_validate)\n",
    "print(score)"
   ]
  },
  {
   "cell_type": "code",
   "execution_count": null,
   "metadata": {},
   "outputs": [],
   "source": [
    "# Train cm\n",
    "predictions = log_reg.predict(X_train)\n",
    "cm = metrics.confusion_matrix(y_train, predictions)\n",
    "print(cm)\n",
    "plot_cm(cm, log_reg.classes_)"
   ]
  },
  {
   "cell_type": "code",
   "execution_count": null,
   "metadata": {},
   "outputs": [],
   "source": [
    "# Validate cm\n",
    "predictions = log_reg.predict(X_validate)\n",
    "cm = metrics.confusion_matrix(y_validate, predictions)\n",
    "print(cm)\n",
    "plot_cm(cm, log_reg.classes_)"
   ]
  },
  {
   "cell_type": "code",
   "execution_count": null,
   "metadata": {},
   "outputs": [],
   "source": []
  }
 ],
 "metadata": {
  "kernelspec": {
   "display_name": "Python 3",
   "language": "python",
   "name": "python3"
  },
  "language_info": {
   "codemirror_mode": {
    "name": "ipython",
    "version": 3
   },
   "file_extension": ".py",
   "mimetype": "text/x-python",
   "name": "python",
   "nbconvert_exporter": "python",
   "pygments_lexer": "ipython3",
   "version": "3.7.3"
  }
 },
 "nbformat": 4,
 "nbformat_minor": 2
}
